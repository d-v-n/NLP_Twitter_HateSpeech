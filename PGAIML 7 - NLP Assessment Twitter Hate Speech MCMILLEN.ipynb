{
 "cells": [
  {
   "cell_type": "code",
   "execution_count": 1,
   "id": "cca88d24",
   "metadata": {},
   "outputs": [],
   "source": [
    "import pandas as pd\n",
    "\n",
    "raw_tweets = pd.read_csv('TwitterHate.csv')"
   ]
  },
  {
   "cell_type": "code",
   "execution_count": 2,
   "id": "da1e3df8",
   "metadata": {},
   "outputs": [
    {
     "name": "stdout",
     "output_type": "stream",
     "text": [
      "<class 'pandas.core.frame.DataFrame'>\n",
      "RangeIndex: 31962 entries, 0 to 31961\n",
      "Data columns (total 3 columns):\n",
      " #   Column  Non-Null Count  Dtype \n",
      "---  ------  --------------  ----- \n",
      " 0   id      31962 non-null  int64 \n",
      " 1   label   31962 non-null  int64 \n",
      " 2   tweet   31962 non-null  object\n",
      "dtypes: int64(2), object(1)\n",
      "memory usage: 749.2+ KB\n"
     ]
    }
   ],
   "source": [
    "raw_tweets.info()"
   ]
  },
  {
   "cell_type": "markdown",
   "id": "ced51e2f",
   "metadata": {},
   "source": [
    "#### Cleaning the text by lower casing all words and removing characters like #@!.? and URL elements:\n"
   ]
  },
  {
   "cell_type": "code",
   "execution_count": 3,
   "id": "0934223c",
   "metadata": {},
   "outputs": [],
   "source": [
    "import re\n",
    "\n",
    "def  clean_text(df, text):\n",
    "    df[text] = df[text].str.lower()\n",
    "    df[text] = df[text].apply(lambda elem: re.sub(r\"(@[A-Za-z0-9]+)|([^0-9A-Za-z \\t])|(\\w+:\\/\\/\\S+)|^rt|http.+?\", \"\", elem))  \n",
    "    return df\n",
    "\n",
    "tweets_clean = clean_text(raw_tweets, 'tweet')"
   ]
  },
  {
   "cell_type": "code",
   "execution_count": 4,
   "id": "ca4cd36a",
   "metadata": {
    "scrolled": true
   },
   "outputs": [
    {
     "data": {
      "text/html": [
       "<div>\n",
       "<style scoped>\n",
       "    .dataframe tbody tr th:only-of-type {\n",
       "        vertical-align: middle;\n",
       "    }\n",
       "\n",
       "    .dataframe tbody tr th {\n",
       "        vertical-align: top;\n",
       "    }\n",
       "\n",
       "    .dataframe thead th {\n",
       "        text-align: right;\n",
       "    }\n",
       "</style>\n",
       "<table border=\"1\" class=\"dataframe\">\n",
       "  <thead>\n",
       "    <tr style=\"text-align: right;\">\n",
       "      <th></th>\n",
       "      <th>id</th>\n",
       "      <th>label</th>\n",
       "      <th>tweet</th>\n",
       "    </tr>\n",
       "  </thead>\n",
       "  <tbody>\n",
       "    <tr>\n",
       "      <th>0</th>\n",
       "      <td>1</td>\n",
       "      <td>0</td>\n",
       "      <td>when a father is dysfunctional and is so sel...</td>\n",
       "    </tr>\n",
       "    <tr>\n",
       "      <th>1</th>\n",
       "      <td>2</td>\n",
       "      <td>0</td>\n",
       "      <td>thanks for lyft credit i cant use cause they...</td>\n",
       "    </tr>\n",
       "    <tr>\n",
       "      <th>2</th>\n",
       "      <td>3</td>\n",
       "      <td>0</td>\n",
       "      <td>bihday your majesty</td>\n",
       "    </tr>\n",
       "    <tr>\n",
       "      <th>3</th>\n",
       "      <td>4</td>\n",
       "      <td>0</td>\n",
       "      <td>model   i love u take with u all the time in u...</td>\n",
       "    </tr>\n",
       "    <tr>\n",
       "      <th>4</th>\n",
       "      <td>5</td>\n",
       "      <td>0</td>\n",
       "      <td>factsguide society now    motivation</td>\n",
       "    </tr>\n",
       "  </tbody>\n",
       "</table>\n",
       "</div>"
      ],
      "text/plain": [
       "   id  label                                              tweet\n",
       "0   1      0    when a father is dysfunctional and is so sel...\n",
       "1   2      0    thanks for lyft credit i cant use cause they...\n",
       "2   3      0                                bihday your majesty\n",
       "3   4      0  model   i love u take with u all the time in u...\n",
       "4   5      0               factsguide society now    motivation"
      ]
     },
     "execution_count": 4,
     "metadata": {},
     "output_type": "execute_result"
    }
   ],
   "source": [
    "tweets_clean.head()"
   ]
  },
  {
   "cell_type": "code",
   "execution_count": 5,
   "id": "9260f63a",
   "metadata": {},
   "outputs": [
    {
     "name": "stdout",
     "output_type": "stream",
     "text": [
      "  when a father is dysfunctional and is so selfish he drags his kids into his dysfunction   run\n"
     ]
    }
   ],
   "source": [
    "tweet_list = tweets_clean.tweet.values\n",
    "print(tweet_list[0])"
   ]
  },
  {
   "cell_type": "markdown",
   "id": "f8d3671c",
   "metadata": {},
   "source": [
    "#### Removing stop words and redundant terms:"
   ]
  },
  {
   "cell_type": "code",
   "execution_count": 6,
   "id": "38bc37bc",
   "metadata": {},
   "outputs": [
    {
     "name": "stdout",
     "output_type": "stream",
     "text": [
      "['when', 'a', 'father', 'is', 'dysfunctional', 'and', 'is', 'so', 'selfish', 'he', 'drags', 'his', 'kids', 'into', 'his', 'dysfunction', 'run']\n"
     ]
    }
   ],
   "source": [
    "from nltk.tokenize import TweetTokenizer\n",
    "from nltk.corpus import stopwords\n",
    "\n",
    "token = TweetTokenizer()\n",
    "tweets_clean_tkn = [token.tokenize(elem) for elem in tweet_list]\n",
    "print(tweets_clean_tkn[0])"
   ]
  },
  {
   "cell_type": "code",
   "execution_count": 7,
   "id": "2e963308",
   "metadata": {},
   "outputs": [],
   "source": [
    "stops = stopwords.words('english')\n",
    "stop_redundant = ['rt','amp']\n",
    "total_stops = stops + stop_redundant"
   ]
  },
  {
   "cell_type": "code",
   "execution_count": 8,
   "id": "a6d72fde",
   "metadata": {},
   "outputs": [
    {
     "name": "stdout",
     "output_type": "stream",
     "text": [
      "['father', 'dysfunctional', 'selfish', 'drags', 'kids', 'dysfunction', 'run']\n"
     ]
    }
   ],
   "source": [
    "def remove_stops(sent):\n",
    "    return [re.sub('#','',term) for term in sent if ((term not in total_stops) & (len(term)>1))]\n",
    "\n",
    "tweets_clean_final = [remove_stops(tweet) for tweet in tweets_clean_tkn]\n",
    "print(tweets_clean_final[0])"
   ]
  },
  {
   "cell_type": "markdown",
   "id": "d7a6ec80",
   "metadata": {},
   "source": [
    "#### Top 10 Terms in tweets:"
   ]
  },
  {
   "cell_type": "code",
   "execution_count": 9,
   "id": "3bab592d",
   "metadata": {
    "scrolled": true
   },
   "outputs": [
    {
     "data": {
      "text/plain": [
       "[('love', 2728),\n",
       " ('day', 2277),\n",
       " ('happy', 1691),\n",
       " ('im', 1157),\n",
       " ('life', 1127),\n",
       " ('time', 1126),\n",
       " ('like', 1105),\n",
       " ('today', 1007),\n",
       " ('new', 987),\n",
       " ('positive', 934)]"
      ]
     },
     "execution_count": 9,
     "metadata": {},
     "output_type": "execute_result"
    }
   ],
   "source": [
    "from collections import Counter\n",
    "\n",
    "words = []\n",
    "for tweet in tweets_clean_final:\n",
    "    words.extend(tweet)\n",
    "top = Counter(words)\n",
    "top.most_common(10)"
   ]
  },
  {
   "cell_type": "markdown",
   "id": "5ba7569c",
   "metadata": {},
   "source": [
    "#### Reformatting:"
   ]
  },
  {
   "cell_type": "code",
   "execution_count": 10,
   "id": "3bc1e29f",
   "metadata": {},
   "outputs": [],
   "source": [
    "tweets_clean_final = [''.join(tweet) for tweet in tweets_clean_final]"
   ]
  },
  {
   "cell_type": "code",
   "execution_count": 11,
   "id": "2ed34ba7",
   "metadata": {},
   "outputs": [],
   "source": [
    "#define input:\n",
    "x = tweets_clean_final\n",
    "#define output:\n",
    "y = tweets_clean.label.values"
   ]
  },
  {
   "cell_type": "code",
   "execution_count": 12,
   "id": "484a8908",
   "metadata": {},
   "outputs": [],
   "source": [
    "from sklearn.model_selection import train_test_split\n",
    "\n",
    "x_train, x_test, y_train, y_test = train_test_split(x, y, test_size = 0.40) #unspecified test size so used 40/60"
   ]
  },
  {
   "cell_type": "markdown",
   "id": "50b61f52",
   "metadata": {},
   "source": [
    "#### TF-IDF:"
   ]
  },
  {
   "cell_type": "code",
   "execution_count": 13,
   "id": "2043aed9",
   "metadata": {},
   "outputs": [],
   "source": [
    "from sklearn.feature_extraction.text import TfidfVectorizer\n",
    "\n",
    "vect = TfidfVectorizer(max_features = 5000)\n",
    "\n",
    "x_train_bow = vect.fit_transform(x_train)\n",
    "x_test_bow = vect.transform(x_test)"
   ]
  },
  {
   "cell_type": "markdown",
   "id": "5c4e8a58",
   "metadata": {},
   "source": [
    "#### Model Building:"
   ]
  },
  {
   "cell_type": "markdown",
   "id": "09491e82",
   "metadata": {},
   "source": [
    "using ordinary logistic regression*"
   ]
  },
  {
   "cell_type": "code",
   "execution_count": 14,
   "id": "a18c4863",
   "metadata": {},
   "outputs": [],
   "source": [
    "from sklearn.linear_model import LogisticRegression\n",
    "\n",
    "logreg = LogisticRegression()\n",
    "logreg.fit(x_train_bow, y_train)\n",
    "\n",
    "y_train_pred = logreg.predict(x_train_bow)\n",
    "y_test_pred = logreg.predict(x_test_bow)"
   ]
  },
  {
   "cell_type": "code",
   "execution_count": 15,
   "id": "290da977",
   "metadata": {},
   "outputs": [
    {
     "name": "stdout",
     "output_type": "stream",
     "text": [
      "              precision    recall  f1-score   support\n",
      "\n",
      "           0       0.93      1.00      0.97     17817\n",
      "           1       1.00      0.08      0.15      1360\n",
      "\n",
      "    accuracy                           0.93     19177\n",
      "   macro avg       0.97      0.54      0.56     19177\n",
      "weighted avg       0.94      0.93      0.91     19177\n",
      "\n"
     ]
    }
   ],
   "source": [
    "from sklearn.metrics import accuracy_score, classification_report\n",
    "accuracy_score(y_train, y_train_pred)\n",
    "print(classification_report(y_train, y_train_pred))"
   ]
  },
  {
   "cell_type": "markdown",
   "id": "74b5bfbe",
   "metadata": {},
   "source": [
    "#### Looking at class imbalance:"
   ]
  },
  {
   "cell_type": "code",
   "execution_count": 16,
   "id": "f3016057",
   "metadata": {
    "scrolled": true
   },
   "outputs": [
    {
     "data": {
      "text/plain": [
       "0    29720\n",
       "1     2242\n",
       "Name: label, dtype: int64"
      ]
     },
     "execution_count": 16,
     "metadata": {},
     "output_type": "execute_result"
    }
   ],
   "source": [
    "tweets_clean.label.value_counts()"
   ]
  },
  {
   "cell_type": "code",
   "execution_count": 17,
   "id": "aceaf9be",
   "metadata": {
    "scrolled": true
   },
   "outputs": [
    {
     "name": "stdout",
     "output_type": "stream",
     "text": [
      "Percent hate speech in this data is:  0.07014579813528565\n"
     ]
    }
   ],
   "source": [
    "#recall 0 = non-hate and 1 = hate\n",
    "percent_hate = 2242/(29720+2242)\n",
    "print(f'Percent hate speech in this data is: ', percent_hate)"
   ]
  },
  {
   "cell_type": "code",
   "execution_count": 18,
   "id": "84fb18ae",
   "metadata": {},
   "outputs": [
    {
     "name": "stdout",
     "output_type": "stream",
     "text": [
      "              precision    recall  f1-score   support\n",
      "\n",
      "           0       0.95      1.00      0.98     17817\n",
      "           1       1.00      0.38      0.55      1360\n",
      "\n",
      "    accuracy                           0.96     19177\n",
      "   macro avg       0.98      0.69      0.76     19177\n",
      "weighted avg       0.96      0.96      0.95     19177\n",
      "\n"
     ]
    }
   ],
   "source": [
    "logreg = LogisticRegression(class_weight=\"balanced\")\n",
    "logreg.fit(x_train_bow, y_train)\n",
    "y_train_pred = logreg.predict(x_train_bow)\n",
    "y_test_pred = logreg.predict(x_test_bow)\n",
    "\n",
    "accuracy_score(y_train, y_train_pred)\n",
    "print(classification_report(y_train, y_train_pred))"
   ]
  },
  {
   "cell_type": "markdown",
   "id": "eade5b1e",
   "metadata": {},
   "source": [
    "somewhat improved - could try upsampling"
   ]
  },
  {
   "cell_type": "markdown",
   "id": "7f33ff52",
   "metadata": {},
   "source": [
    "#### Regularization, hyperparameter tuning, and cross-val:"
   ]
  },
  {
   "cell_type": "code",
   "execution_count": 19,
   "id": "dec7773b",
   "metadata": {},
   "outputs": [
    {
     "name": "stdout",
     "output_type": "stream",
     "text": [
      "Fitting 4 folds for each of 10 candidates, totalling 40 fits\n"
     ]
    },
    {
     "name": "stderr",
     "output_type": "stream",
     "text": [
      "C:\\Users\\Devin McMillen\\anaconda3\\lib\\site-packages\\sklearn\\model_selection\\_search.py:922: UserWarning: One or more of the test scores are non-finite: [       nan 0.16764706        nan 0.16764706        nan 0.16764706\n",
      "        nan 0.16764706        nan 0.16764706]\n",
      "  warnings.warn(\n"
     ]
    },
    {
     "data": {
      "text/plain": [
       "GridSearchCV(cv=StratifiedKFold(n_splits=4, random_state=None, shuffle=False),\n",
       "             estimator=LogisticRegression(class_weight='balanced'), n_jobs=-1,\n",
       "             param_grid={'C': [0.01, 0.1, 1, 10, 100], 'penalty': ['l1', 'l2']},\n",
       "             scoring='recall', verbose=1)"
      ]
     },
     "execution_count": 19,
     "metadata": {},
     "output_type": "execute_result"
    }
   ],
   "source": [
    "from sklearn.model_selection import GridSearchCV, StratifiedKFold\n",
    "\n",
    "param_grid = {'C': [0.01,0.1,1,10,100], 'penalty': [\"l1\",\"l2\"]}\n",
    "\n",
    "logreg = LogisticRegression(class_weight=\"balanced\")\n",
    "grid_search = GridSearchCV(estimator = logreg, param_grid = param_grid, \n",
    "                          cv = StratifiedKFold(4), n_jobs = -1, verbose = 1, scoring = \"recall\" )\n",
    "grid_search.fit(x_train_bow, y_train)"
   ]
  },
  {
   "cell_type": "code",
   "execution_count": 20,
   "id": "9b4ddf8f",
   "metadata": {},
   "outputs": [
    {
     "data": {
      "text/plain": [
       "LogisticRegression(C=0.01, class_weight='balanced')"
      ]
     },
     "execution_count": 20,
     "metadata": {},
     "output_type": "execute_result"
    }
   ],
   "source": [
    "grid_search.best_estimator_"
   ]
  },
  {
   "cell_type": "markdown",
   "id": "9ddccbef",
   "metadata": {},
   "source": [
    "#### Using the best estimator:"
   ]
  },
  {
   "cell_type": "code",
   "execution_count": 21,
   "id": "ffff602a",
   "metadata": {
    "scrolled": true
   },
   "outputs": [
    {
     "name": "stdout",
     "output_type": "stream",
     "text": [
      "              precision    recall  f1-score   support\n",
      "\n",
      "           0       0.94      1.00      0.97     11903\n",
      "           1       1.00      0.14      0.24       882\n",
      "\n",
      "    accuracy                           0.94     12785\n",
      "   macro avg       0.97      0.57      0.61     12785\n",
      "weighted avg       0.94      0.94      0.92     12785\n",
      "\n"
     ]
    }
   ],
   "source": [
    "y_test_pred = grid_search.best_estimator_.predict(x_test_bow)\n",
    "y_train_pred = grid_search.best_estimator_.predict(x_train_bow)\n",
    "print(classification_report(y_test, y_test_pred))"
   ]
  },
  {
   "cell_type": "markdown",
   "id": "f52304dd",
   "metadata": {},
   "source": [
    "#### Notes:\n",
    "F1 score has halfed, despire precision being high and accuracy being 0.94\n",
    "\n",
    "I would retry the train / test split or remove data for cross validation.\n",
    "\n",
    "We could manually fix the class imbalance with up or down sampling."
   ]
  },
  {
   "cell_type": "code",
   "execution_count": null,
   "id": "8a0d4e3f",
   "metadata": {},
   "outputs": [],
   "source": []
  }
 ],
 "metadata": {
  "kernelspec": {
   "display_name": "Python 3 (ipykernel)",
   "language": "python",
   "name": "python3"
  },
  "language_info": {
   "codemirror_mode": {
    "name": "ipython",
    "version": 3
   },
   "file_extension": ".py",
   "mimetype": "text/x-python",
   "name": "python",
   "nbconvert_exporter": "python",
   "pygments_lexer": "ipython3",
   "version": "3.8.8"
  }
 },
 "nbformat": 4,
 "nbformat_minor": 5
}
